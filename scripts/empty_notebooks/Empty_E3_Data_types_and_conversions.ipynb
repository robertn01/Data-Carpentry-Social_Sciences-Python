{
 "cells": [
  {
   "cell_type": "markdown",
   "metadata": {},
   "source": [
    "## Episode 3 - ['Data types and type conversion'](https://swcarpentry.github.io/python-novice-gapminder/03-types-conversion/index.html)"
   ]
  },
  {
   "cell_type": "markdown",
   "metadata": {},
   "source": [
    "### Use the built-in function *type()* to find the type of a variable object (*what type of information has been stored in it*).\n",
    "\n",
    "* Use *type()* to find out what data type a given value has.\n",
    "\n",
    "* Similarly to variable objects..\n",
    "\n",
    "NB: the value has the type — the variable/ object is just a label."
   ]
  },
  {
   "cell_type": "code",
   "execution_count": 1,
   "metadata": {},
   "outputs": [],
   "source": [
    "# For example:\n",
    "\n",
    "# print(type(42))"
   ]
  },
  {
   "cell_type": "code",
   "execution_count": 2,
   "metadata": {},
   "outputs": [],
   "source": [
    "# type(42)"
   ]
  },
  {
   "cell_type": "code",
   "execution_count": 3,
   "metadata": {},
   "outputs": [],
   "source": [
    "# print(type('character'))"
   ]
  },
  {
   "cell_type": "code",
   "execution_count": 4,
   "metadata": {},
   "outputs": [],
   "source": [
    "# type('character')"
   ]
  },
  {
   "cell_type": "code",
   "execution_count": 5,
   "metadata": {},
   "outputs": [],
   "source": [
    "# a = 10\n",
    "# b = 'myString'"
   ]
  },
  {
   "cell_type": "code",
   "execution_count": 6,
   "metadata": {},
   "outputs": [],
   "source": [
    "# type(a)"
   ]
  },
  {
   "cell_type": "code",
   "execution_count": 7,
   "metadata": {},
   "outputs": [],
   "source": [
    "# print(type(a))"
   ]
  },
  {
   "cell_type": "code",
   "execution_count": 8,
   "metadata": {},
   "outputs": [],
   "source": [
    "# type(b)"
   ]
  },
  {
   "cell_type": "code",
   "execution_count": 9,
   "metadata": {},
   "outputs": [],
   "source": [
    "# print(type(b))"
   ]
  },
  {
   "cell_type": "markdown",
   "metadata": {},
   "source": [
    "### Types control what **operations** (or functions / methods) can be performed (*executed*) on a given value / object, value / object pair.\n",
    "\n",
    "Some arithmeticv operation can, others cannot be appl;ied on both numeric and character string values or variable objects.\n",
    "\n",
    "* *Subtraction* cannot work on *str* values or objects"
   ]
  },
  {
   "cell_type": "code",
   "execution_count": 10,
   "metadata": {},
   "outputs": [],
   "source": [
    "# 5 - 3"
   ]
  },
  {
   "cell_type": "code",
   "execution_count": 11,
   "metadata": {},
   "outputs": [],
   "source": [
    "# print(5 - 3)"
   ]
  },
  {
   "cell_type": "code",
   "execution_count": 12,
   "metadata": {},
   "outputs": [],
   "source": [
    "# (5 - 3)"
   ]
  },
  {
   "cell_type": "code",
   "execution_count": 13,
   "metadata": {},
   "outputs": [],
   "source": [
    "# 'hello' - 'h'"
   ]
  },
  {
   "cell_type": "code",
   "execution_count": 14,
   "metadata": {},
   "outputs": [],
   "source": [
    "# print('hello' - 'h')"
   ]
  },
  {
   "cell_type": "markdown",
   "metadata": {},
   "source": [
    "* *Addition* ('**+**') and *multiplication* (**'*'**), on the other hand, are valid operations on both **numeric** and **str** values or objects.\n",
    "\n",
    "    * “Adding” character strings concatenates them.\n",
    "    \n",
    "    * Multiplying a character string by an integer N creates a new string that consists of that character string repeated N times. (*NB: Multiplication is a repeated addition*)"
   ]
  },
  {
   "cell_type": "code",
   "execution_count": 15,
   "metadata": {},
   "outputs": [],
   "source": [
    "# first_name = 'John'\n",
    "# last_name = ' Doe' # NB: there is a white space at the beginning"
   ]
  },
  {
   "cell_type": "code",
   "execution_count": 16,
   "metadata": {},
   "outputs": [],
   "source": [
    "# full_name = first_name + last_name"
   ]
  },
  {
   "cell_type": "code",
   "execution_count": 17,
   "metadata": {},
   "outputs": [],
   "source": [
    "# full_name"
   ]
  },
  {
   "cell_type": "code",
   "execution_count": 18,
   "metadata": {},
   "outputs": [],
   "source": [
    "# full_name_2 = 'Alice' + ' ' + 'Smith'"
   ]
  },
  {
   "cell_type": "code",
   "execution_count": 19,
   "metadata": {},
   "outputs": [],
   "source": [
    "# full_name_2"
   ]
  },
  {
   "cell_type": "code",
   "execution_count": 20,
   "metadata": {},
   "outputs": [],
   "source": [
    "# 'first name' + ' last name'"
   ]
  },
  {
   "cell_type": "code",
   "execution_count": 21,
   "metadata": {},
   "outputs": [],
   "source": [
    "# print('First name' + ' and' + ' last name')"
   ]
  },
  {
   "cell_type": "code",
   "execution_count": 22,
   "metadata": {},
   "outputs": [],
   "source": [
    "# Apply multiplication ('*') operation on character string ('str') values \n",
    "# or variable objects:\n",
    "\n",
    "# string_object_1 = 'Apple '\n",
    "# string_object_2 = \"Banana \""
   ]
  },
  {
   "cell_type": "code",
   "execution_count": 24,
   "metadata": {},
   "outputs": [],
   "source": [
    "# full_name = full_name + ' ' # Add white space to the end"
   ]
  },
  {
   "cell_type": "code",
   "execution_count": null,
   "metadata": {},
   "outputs": [],
   "source": [
    "# 'Pear ' * 10"
   ]
  },
  {
   "cell_type": "code",
   "execution_count": null,
   "metadata": {},
   "outputs": [],
   "source": [
    "# c = \"pear \""
   ]
  },
  {
   "cell_type": "code",
   "execution_count": null,
   "metadata": {},
   "outputs": [],
   "source": [
    "# 10 * c"
   ]
  },
  {
   "cell_type": "code",
   "execution_count": null,
   "metadata": {},
   "outputs": [],
   "source": [
    "# c * 10"
   ]
  },
  {
   "cell_type": "code",
   "execution_count": null,
   "metadata": {},
   "outputs": [],
   "source": [
    "# print(5 * string_object_1, 5 * string_object_2)"
   ]
  },
  {
   "cell_type": "code",
   "execution_count": null,
   "metadata": {},
   "outputs": [],
   "source": [
    "# print(5 * string_object_1 + 5 * string_object_2) # in case of strings, comma ','\n",
    "# can be replaced by '+' to concatenate two streams of strings"
   ]
  },
  {
   "cell_type": "markdown",
   "metadata": {},
   "source": [
    "### Length can be checked in case of string (character) values but not in case of numeric objects\n",
    "\n",
    "* The built-in function **len()** counts the number of characters in a string."
   ]
  },
  {
   "cell_type": "code",
   "execution_count": null,
   "metadata": {},
   "outputs": [],
   "source": [
    "# full_name = full_name.rstrip(' ') # rstrip removes e.g. white spaces from the right (end of the character string)"
   ]
  },
  {
   "cell_type": "code",
   "execution_count": null,
   "metadata": {},
   "outputs": [],
   "source": [
    "# full_name"
   ]
  },
  {
   "cell_type": "code",
   "execution_count": null,
   "metadata": {},
   "outputs": [],
   "source": [
    "# len(full_name) # 8-character-long; NB: white spaces count as well!"
   ]
  },
  {
   "cell_type": "code",
   "execution_count": null,
   "metadata": {},
   "outputs": [],
   "source": [
    "# len('abc')"
   ]
  },
  {
   "cell_type": "code",
   "execution_count": null,
   "metadata": {},
   "outputs": [],
   "source": [
    "# len(a) # remember, earlier we've assigned numeric 10 to object named as 'a'"
   ]
  },
  {
   "cell_type": "code",
   "execution_count": null,
   "metadata": {},
   "outputs": [],
   "source": [
    "# len(42)"
   ]
  },
  {
   "cell_type": "markdown",
   "metadata": {},
   "source": [
    "\n",
    "### Data type conversions\n",
    "\n",
    "Data objects/ values should be converted in order to let Python implement 'arithmetic operations' on them. For example:\n",
    "\n",
    "* Cannot add numbers and strings - Mind about data type homogeneity within scope of the operation!\n",
    "\n"
   ]
  },
  {
   "cell_type": "code",
   "execution_count": null,
   "metadata": {},
   "outputs": [],
   "source": [
    "# print(1 + '2') # numeric values can be represented as both character strings as well as numeric objects"
   ]
  },
  {
   "cell_type": "code",
   "execution_count": null,
   "metadata": {},
   "outputs": [],
   "source": [
    "# print(a, 2)"
   ]
  },
  {
   "cell_type": "code",
   "execution_count": null,
   "metadata": {},
   "outputs": [],
   "source": [
    "# print (a + 2)"
   ]
  },
  {
   "cell_type": "code",
   "execution_count": null,
   "metadata": {},
   "outputs": [],
   "source": [
    "# print (a + '2')"
   ]
  },
  {
   "cell_type": "code",
   "execution_count": null,
   "metadata": {},
   "outputs": [],
   "source": [
    "# print(\"The participant's age is: \" + '42')"
   ]
  },
  {
   "cell_type": "code",
   "execution_count": null,
   "metadata": {},
   "outputs": [],
   "source": [
    "# print(\"The participant's age is: \" + 42) # Can use comma (',') instead of '+' when\n",
    "# want to print ouit a stream of values with mixed data types"
   ]
  },
  {
   "cell_type": "markdown",
   "metadata": {},
   "source": [
    "### Let's convert data types to preserve homogeneity\n",
    "\n",
    "Here, we are going to implement **explicit data type conversion**."
   ]
  },
  {
   "cell_type": "code",
   "execution_count": null,
   "metadata": {},
   "outputs": [],
   "source": [
    "# print(1 + int('2'))"
   ]
  },
  {
   "cell_type": "code",
   "execution_count": null,
   "metadata": {},
   "outputs": [],
   "source": [
    "# print(5 + a)"
   ]
  },
  {
   "cell_type": "code",
   "execution_count": null,
   "metadata": {},
   "outputs": [],
   "source": [
    "# print(str(1) + '2') # str + str --> This IS concatenation\n",
    "# print(str(1) + ' ' + '2')"
   ]
  },
  {
   "cell_type": "code",
   "execution_count": null,
   "metadata": {},
   "outputs": [],
   "source": [
    "# print('2' + str(a))"
   ]
  },
  {
   "cell_type": "markdown",
   "metadata": {},
   "source": [
    "### Can mix integers and floats as both are numeric subtypes and can be easily transformed to one another\n",
    "\n",
    "* *Python 3* automatically converts integers to floats as needed. (Integer division in Python 2 will return an integer, the floor of the division)."
   ]
  },
  {
   "cell_type": "code",
   "execution_count": null,
   "metadata": {},
   "outputs": [],
   "source": [
    "# print('half is ', 1/2.0)"
   ]
  },
  {
   "cell_type": "code",
   "execution_count": null,
   "metadata": {},
   "outputs": [],
   "source": [
    "# print('three sqared is ', 3.0 ** 2)"
   ]
  },
  {
   "cell_type": "code",
   "execution_count": null,
   "metadata": {},
   "outputs": [],
   "source": [
    "# print('a third is ', 1/3)"
   ]
  },
  {
   "cell_type": "code",
   "execution_count": null,
   "metadata": {},
   "outputs": [],
   "source": [
    "# print('a third is ', 1.0/3)"
   ]
  },
  {
   "cell_type": "code",
   "execution_count": null,
   "metadata": {},
   "outputs": [],
   "source": [
    "# print('a third is ', 1/3.0)"
   ]
  },
  {
   "cell_type": "code",
   "execution_count": null,
   "metadata": {},
   "outputs": [],
   "source": [
    "# print('a third is ', 1.0/3.0)"
   ]
  },
  {
   "cell_type": "markdown",
   "metadata": {},
   "source": [
    "Can use [floor division](https://python-reference.readthedocs.io/en/latest/docs/operators/floor_division.html) - implements arithmetic division and rounds to the closest integer. The returning result's *data type* or *format* is dependent on the operands' data types (e.g. if either is float then the result will be printed out in a float format)."
   ]
  },
  {
   "cell_type": "code",
   "execution_count": null,
   "metadata": {},
   "outputs": [],
   "source": [
    "# print('a third is ', 1//3.0)"
   ]
  },
  {
   "cell_type": "code",
   "execution_count": null,
   "metadata": {},
   "outputs": [],
   "source": [
    "# print('a third is ', 1//3)"
   ]
  },
  {
   "cell_type": "markdown",
   "metadata": {},
   "source": [
    "### Additional considerations / further practical demonstrations"
   ]
  },
  {
   "cell_type": "markdown",
   "metadata": {},
   "source": [
    "1. **Fractions** AKA *floating point number* representation (*data type: **float**)*\n",
    "\n",
    "* E.g. check data type of the value 3.14\n"
   ]
  },
  {
   "cell_type": "code",
   "execution_count": null,
   "metadata": {},
   "outputs": [],
   "source": [
    "# type(3.14)"
   ]
  },
  {
   "cell_type": "markdown",
   "metadata": {},
   "source": [
    "2. **Automatic (AKA Implicit) type conversion**: *float* is 'higher order' than *int* (by default, Python want to preserve the granularity opr resolution..)\n",
    "\n",
    "* E.g. check data type of returning value of the following operation: 3.14 + 3\n",
    "\n",
    "\n",
    "[Read more](https://www.freecodecamp.org/news/learn-typecasting-in-python-in-five-minutes-90d42c439743/)"
   ]
  },
  {
   "cell_type": "code",
   "execution_count": null,
   "metadata": {},
   "outputs": [],
   "source": [
    "# type(3.14 + 3)"
   ]
  },
  {
   "cell_type": "code",
   "execution_count": null,
   "metadata": {},
   "outputs": [],
   "source": [
    "# d = 5.3 + 1"
   ]
  },
  {
   "cell_type": "code",
   "execution_count": null,
   "metadata": {},
   "outputs": [],
   "source": [
    "d"
   ]
  },
  {
   "cell_type": "code",
   "execution_count": null,
   "metadata": {},
   "outputs": [],
   "source": [
    "# type(d)"
   ]
  },
  {
   "cell_type": "markdown",
   "metadata": {},
   "source": [
    "3. **Division types**\n",
    "\n",
    "* In Python 3, the '**//**' operator performs **integer (*whole-number*) floor division**, the '**/**' operator performs **floating-point division**, and the ‘**%**’ (*or modulo*) operator calculates and **returns with the remainder from integer division**.\n",
    "\n",
    "* For illustration, consider the following examples:\n",
    "\n",
    "    * *print('5 // 3:', 5//3)*\n",
    "\n",
    "    * *print('5 / 3:', 5/3)*\n",
    "\n",
    "    * *print('5 % 3:', 5%3)*\n",
    "        "
   ]
  },
  {
   "cell_type": "code",
   "execution_count": null,
   "metadata": {},
   "outputs": [],
   "source": [
    "# print('5 // 3:', 5//3)"
   ]
  },
  {
   "cell_type": "code",
   "execution_count": null,
   "metadata": {},
   "outputs": [],
   "source": [
    "# print('5 / 3:', 5/3)"
   ]
  },
  {
   "cell_type": "code",
   "execution_count": null,
   "metadata": {},
   "outputs": [],
   "source": [
    "# print('5 % 3:', 5%3)"
   ]
  },
  {
   "cell_type": "markdown",
   "metadata": {},
   "source": [
    "4. **Type conversion: trings to numbers**\n",
    "\n",
    "* Where reasonable, **float()** will convert a *string* to a *floating point number*, and **int()** will convert a *floating point number* to an *integer*.\n",
    "\n",
    "* Look at the following examples:\n",
    "\n",
    "    * *print(\"string to float: \", float(\"3.14\"))*\n",
    "    * *print(\"float to int: \", int(3.14))*\n",
    "    * *print(\"string to int: \", int(\"3.14\"))* \n",
    "\n",
    "*NB: the last one will throw an error - try to comprehend, why..*"
   ]
  },
  {
   "cell_type": "code",
   "execution_count": null,
   "metadata": {},
   "outputs": [],
   "source": [
    "# print(\"string to float: \", float(\"3.14\"))"
   ]
  },
  {
   "cell_type": "code",
   "execution_count": null,
   "metadata": {},
   "outputs": [],
   "source": [
    "# print(\"float to int: \", int(3.14))"
   ]
  },
  {
   "cell_type": "code",
   "execution_count": null,
   "metadata": {},
   "outputs": [],
   "source": [
    "# print(\"string to int: \", int(\"3.14\"))"
   ]
  },
  {
   "cell_type": "markdown",
   "metadata": {},
   "source": [
    "* If the type conversion does not make sense...\n",
    "\n",
    "    * *print(\"string to float:\", float(\"Hello world!\"))*"
   ]
  },
  {
   "cell_type": "code",
   "execution_count": null,
   "metadata": {},
   "outputs": [],
   "source": [
    "# print(\"string to float:\", float(\"Hello world!\"))"
   ]
  },
  {
   "cell_type": "markdown",
   "metadata": {},
   "source": [
    "## Excercises"
   ]
  },
  {
   "cell_type": "markdown",
   "metadata": {},
   "source": [
    "### 3.1 'Choose a Type' (~ discussion)\n",
    "\n",
    "What type of value (integer, floating point number, or character string) would you use to represent each of the following? \n",
    "\n",
    "Try to come up with more than one good answer for each problem. \n",
    "\n",
    "For example, in # 1, when would counting days with a floating point variable make more sense than using an integer?\n",
    "\n",
    "* Number of days since the start of the year.\n",
    "\n",
    "* Time elapsed from the start of the year until now in days.\n",
    "\n",
    "* Serial number of a piece of lab equipment.\n",
    "\n",
    "* A lab specimen’s age.\n",
    "\n",
    "* Current population of a city.\n",
    "\n",
    "* Average population of a city over time.\n"
   ]
  },
  {
   "cell_type": "code",
   "execution_count": null,
   "metadata": {},
   "outputs": [],
   "source": [
    "# 3.1 - Any comments... "
   ]
  },
  {
   "cell_type": "markdown",
   "metadata": {},
   "source": [
    "### 3.2 'Arithmetic with Different Types'\n",
    "\n",
    "Which of the following will return the **floating point number 2.0**? \n",
    "\n",
    "*NB: there may be more than one right answer.*\n",
    "\n",
    "Answer options:\n",
    "\n",
    "* 1. first + float(second)\n",
    "\n",
    "* 2. float(second) + float(third)\n",
    "\n",
    "* 3. first + int(third)\n",
    "\n",
    "* 4. first + int(float(third))\n",
    "\n",
    "* 5. int(first) + int(float(third))\n",
    "\n",
    "* 6. 2.0 * second\n",
    "\n",
    "\n",
    "When given Python code:\n",
    "\n",
    "*first = 1.0*\n",
    "\n",
    "*second = \"1\"*\n",
    "\n",
    "*third = \"1.1\"*\n"
   ]
  },
  {
   "cell_type": "code",
   "execution_count": null,
   "metadata": {},
   "outputs": [],
   "source": []
  }
 ],
 "metadata": {
  "kernelspec": {
   "display_name": "Python 3",
   "language": "python",
   "name": "python3"
  },
  "language_info": {
   "codemirror_mode": {
    "name": "ipython",
    "version": 3
   },
   "file_extension": ".py",
   "mimetype": "text/x-python",
   "name": "python",
   "nbconvert_exporter": "python",
   "pygments_lexer": "ipython3",
   "version": "3.7.6"
  }
 },
 "nbformat": 4,
 "nbformat_minor": 4
}
