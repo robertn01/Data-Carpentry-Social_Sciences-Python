{
 "cells": [
  {
   "cell_type": "markdown",
   "metadata": {},
   "source": [
    "## Episode 2 - ['Variables and assignment'](https://swcarpentry.github.io/python-novice-gapminder/02-variables/index.html)"
   ]
  },
  {
   "cell_type": "markdown",
   "metadata": {},
   "source": [
    "### 1. Use variable object to store values (data)\n",
    "\n",
    "age = 42 (assigning an integer numeric value to an object or variable named as 'age')\n",
    "\n",
    "first_name = 'John' (assigning a character string to an object or variable named as 'first_name')\n",
    "\n",
    "NB: in case of character strings, one can use both single and double quotation marks. So we can alternatively type:\n",
    "\n",
    "first_name = \"John\" (this is equivalent to the above assignment)\n",
    "\n",
    "**Use meaningful (*intuitive/ self-explaining*) variable names!**"
   ]
  },
  {
   "cell_type": "code",
   "execution_count": 11,
   "metadata": {},
   "outputs": [],
   "source": [
    "# We can execute multiple assignment operations in a single cell\n",
    "\n",
    "\n",
    "\n",
    "# NB: when you hit Shift + Enter Jupyter/ Python is executing the value assignment command \n",
    "# and storing the above values under the given variable names but do not return with anything\n",
    "# as an output. If we would like to retreive and display the values which are stored we need \n",
    "# to call a print() function or type the variable names with or without brackets, \n",
    "# as illustrated below."
   ]
  },
  {
   "cell_type": "code",
   "execution_count": 12,
   "metadata": {},
   "outputs": [],
   "source": [
    "# Try Python code here.. add new cells if needed!\n"
   ]
  },
  {
   "cell_type": "markdown",
   "metadata": {},
   "source": [
    "### Printing out the stored values of named variables (objects)"
   ]
  },
  {
   "cell_type": "code",
   "execution_count": 13,
   "metadata": {},
   "outputs": [],
   "source": [
    "# multiple prints in a cell?  Likely prints only the most recent (very last) rrint command's return value. "
   ]
  },
  {
   "cell_type": "code",
   "execution_count": 14,
   "metadata": {},
   "outputs": [],
   "source": [
    "# Try Python code here.. add new cells if needed!\n"
   ]
  },
  {
   "cell_type": "code",
   "execution_count": 20,
   "metadata": {},
   "outputs": [],
   "source": [
    "# Can 'concatenate' the stored values and combine with further user-defined data to display \n",
    "# a desired character stream, e.g.:"
   ]
  },
  {
   "cell_type": "markdown",
   "metadata": {},
   "source": [
    "*NB: print() automatically puts a single space between items.*"
   ]
  },
  {
   "cell_type": "markdown",
   "metadata": {},
   "source": [
    "### Variables must be created before they are used"
   ]
  },
  {
   "cell_type": "code",
   "execution_count": 21,
   "metadata": {},
   "outputs": [],
   "source": [
    "# Try Python code here.. add new cells if needed!\n"
   ]
  },
  {
   "cell_type": "markdown",
   "metadata": {},
   "source": [
    "### Variables Persist Between Cells"
   ]
  },
  {
   "cell_type": "code",
   "execution_count": 22,
   "metadata": {},
   "outputs": [],
   "source": [
    "# Try Python code here.. add new cells if needed!\n"
   ]
  },
  {
   "cell_type": "code",
   "execution_count": 23,
   "metadata": {},
   "outputs": [],
   "source": [
    "# Try Python code here.. add new cells if needed!\n"
   ]
  },
  {
   "cell_type": "code",
   "execution_count": 24,
   "metadata": {},
   "outputs": [],
   "source": [
    "# Try Python code here.. add new cells if needed!\n"
   ]
  },
  {
   "cell_type": "markdown",
   "metadata": {},
   "source": [
    "*NB: re-running cells overwriting cell numbers (far left -e.g.: [24] )*"
   ]
  },
  {
   "cell_type": "markdown",
   "metadata": {},
   "source": [
    "### Pre-defined variables (objects) can be utilised later"
   ]
  },
  {
   "cell_type": "code",
   "execution_count": 25,
   "metadata": {},
   "outputs": [],
   "source": [
    "# Try Python code here.. add new cells if needed!\n"
   ]
  },
  {
   "cell_type": "code",
   "execution_count": 26,
   "metadata": {},
   "outputs": [],
   "source": [
    "# Try Python code here.. add new cells if needed!\n"
   ]
  },
  {
   "cell_type": "markdown",
   "metadata": {},
   "source": [
    "### Use an index to get a single character (*atomic element*) from a string\n",
    "\n",
    "As an example:\n",
    "\n",
    "atom_name = 'helium'\n",
    "\n",
    "print(atom_name[0])\n",
    "\n",
    "*NB: in Python indexing from left to right starts with '0', and from right to left starts with '-1' (so on index '-1' points to the last character of your string)*"
   ]
  },
  {
   "cell_type": "code",
   "execution_count": 30,
   "metadata": {},
   "outputs": [],
   "source": [
    "# Try Python code here.. add new cells if needed!\n"
   ]
  },
  {
   "cell_type": "markdown",
   "metadata": {},
   "source": [
    "### Use a slice to get a substring\n",
    "\n",
    "[ start_index : stop_index )\n",
    "\n",
    "NB: character under 'stop_index' is not included in the slice."
   ]
  },
  {
   "cell_type": "code",
   "execution_count": 31,
   "metadata": {},
   "outputs": [],
   "source": [
    "# Try Python code here.. add new cells if needed!\n"
   ]
  },
  {
   "cell_type": "markdown",
   "metadata": {},
   "source": [
    "If we are going to assign a numeric string (e.g. an integer type value) to our variable / object and would use indexing.. Let's see what happens!"
   ]
  },
  {
   "cell_type": "markdown",
   "metadata": {},
   "source": [
    "Let's use our *atom_name* example.\n",
    "\n",
    "### What does *my_string [ low : high ]* do?"
   ]
  },
  {
   "cell_type": "code",
   "execution_count": 32,
   "metadata": {},
   "outputs": [],
   "source": [
    "# Try Python code here.. add new cells if needed!\n"
   ]
  },
  {
   "cell_type": "markdown",
   "metadata": {},
   "source": [
    "### What does *my_string [ low :]* do?"
   ]
  },
  {
   "cell_type": "code",
   "execution_count": 36,
   "metadata": {},
   "outputs": [],
   "source": [
    "# Try Python code here.. add new cells if needed!\n"
   ]
  },
  {
   "cell_type": "markdown",
   "metadata": {},
   "source": [
    "### What does *my_string [: high ]* do?"
   ]
  },
  {
   "cell_type": "code",
   "execution_count": 35,
   "metadata": {},
   "outputs": [],
   "source": [
    "# Try Python code here.. add new cells if needed!\n"
   ]
  },
  {
   "cell_type": "markdown",
   "metadata": {},
   "source": [
    "### What does *my_string [ : ]* do?"
   ]
  },
  {
   "cell_type": "code",
   "execution_count": 37,
   "metadata": {},
   "outputs": [],
   "source": [
    "# Try Python code here.. add new cells if needed!\n"
   ]
  },
  {
   "cell_type": "markdown",
   "metadata": {},
   "source": [
    "### What does *my_string [1 : -2 ]* do?"
   ]
  },
  {
   "cell_type": "code",
   "execution_count": 39,
   "metadata": {},
   "outputs": [],
   "source": [
    "# Try Python code here.. add new cells if needed!\n"
   ]
  },
  {
   "cell_type": "code",
   "execution_count": 40,
   "metadata": {},
   "outputs": [],
   "source": [
    "# Now, say, aiming for printing out the second digit (or quasi-character) of a numeric variable's value:\n",
    "\n"
   ]
  },
  {
   "cell_type": "markdown",
   "metadata": {},
   "source": [
    "### Use the built-in function len to find the length of a string"
   ]
  },
  {
   "cell_type": "code",
   "execution_count": 41,
   "metadata": {},
   "outputs": [],
   "source": [
    "# Try Python code here.. add new cells if needed!\n",
    "\n"
   ]
  },
  {
   "cell_type": "markdown",
   "metadata": {},
   "source": [
    "### Nested function and order of execution\n",
    "\n",
    "Below is a stylised illustration of a *nested function*:\n",
    "\n",
    "function_name_2 ( function_name_1 ( argument_or_parameter ) ) \n",
    "\n",
    "The order of Python code execution:\n",
    "\n",
    "1. **top-down** ( *cell by cell, or within a single cell line by line vertically ' descending'* )\n",
    "2. **right-to-left** ( *in a given line of Python code* )\n",
    "3. **inside-out** ( *in a given line of Python code* )\n",
    "\n",
    "In thie above pseudo-code example, function_name_1 will execute its pre-defined operation first on 'argument' (this function should have an output or a *return* value), then function_name_2 will be executed taking the return value of function_name_1 as its argument (or parameter)."
   ]
  },
  {
   "cell_type": "code",
   "execution_count": 43,
   "metadata": {},
   "outputs": [],
   "source": [
    "# Try Python code here.. add new cells if needed!\n",
    "\n"
   ]
  },
  {
   "cell_type": "markdown",
   "metadata": {},
   "source": [
    "### Hit *Tab* to autocomple pre-defined objects' names (e.g. variables, functions or methods)"
   ]
  },
  {
   "cell_type": "code",
   "execution_count": 42,
   "metadata": {},
   "outputs": [],
   "source": [
    "# Try Python code here.. add new cells if needed!\n",
    "\n"
   ]
  },
  {
   "cell_type": "markdown",
   "metadata": {},
   "source": [
    "### Further good-to-know practices:\n",
    "\n",
    "1. **Unsure about what arguments the given function need to have?**\n",
    "\n",
    "E.g. let's consider a buil-in function, **abs()** as an example - this function does as its name indicates: Return the absolute value of a number. The argument may be an integer or a floating point number.\n",
    "\n",
    "move the cursor (click between) the parenthesis, then hit *tab*. This will return with a drop-down list of possible pre-defined objects as arguments (on the top ranked the most important ones).\n",
    "\n",
    "2. **Unsure about what the function is doing?**\n",
    "\n",
    "By using the same example, move the cursor right before the first parenthesis, then hit **Shift** + **tab** combination. A tiny window will pop-up that describes the function's brief (e.g. brief documentation and its operational mechanism 'under the hood')."
   ]
  },
  {
   "cell_type": "code",
   "execution_count": 44,
   "metadata": {},
   "outputs": [],
   "source": [
    "# Let's try the above in this cell:\n",
    "# First, define a new object (a variable) that stores a negative integer number:\n",
    "\n"
   ]
  },
  {
   "cell_type": "markdown",
   "metadata": {},
   "source": [
    "### Python is case-sensitive\n",
    "\n",
    "For example, try the following code:\n",
    "\n",
    "Name = 'Alice'\n",
    "\n",
    "name = 'Bob'\n",
    "\n",
    "print(Name, 'and', name)"
   ]
  },
  {
   "cell_type": "code",
   "execution_count": 45,
   "metadata": {},
   "outputs": [],
   "source": [
    "# Try Python code here.. add new cells if needed!\n",
    "\n"
   ]
  },
  {
   "cell_type": "markdown",
   "metadata": {},
   "source": [
    "### Swapping Values\n",
    "\n",
    "These three lines exchange the values in x and y using the swap variable for temporary storage. This is a fairly common programming idiom.\n",
    "\n",
    "**Fill the table showing the values of the variables in this program after each statement is executed (*line by line*)**"
   ]
  },
  {
   "cell_type": "code",
   "execution_count": 46,
   "metadata": {},
   "outputs": [],
   "source": [
    "# Command  # Value of x   # Value of y   # Value of swap #\n",
    "x = 1.0    #              #              #               #\n",
    "y = 3.0    #              #              #               #\n",
    "swap = x   #              #              #               #\n",
    "x = y      #              #              #               #\n",
    "y = swap   #              #              #               #"
   ]
  },
  {
   "cell_type": "markdown",
   "metadata": {},
   "source": [
    "#### Let's see step by step"
   ]
  },
  {
   "cell_type": "code",
   "execution_count": 47,
   "metadata": {},
   "outputs": [],
   "source": [
    "# Step 1 - Result after executing the first line:\n",
    "\n",
    "# Command  # Value of x   # Value of y   # Value of swap #\n",
    "x = 1.0    # 1.0          # not defined  # not defined   #"
   ]
  },
  {
   "cell_type": "code",
   "execution_count": 48,
   "metadata": {},
   "outputs": [],
   "source": [
    "# Step 2 - Result after executing the second line:\n",
    "\n",
    "# Command  # Value of x   # Value of y   # Value of swap #\n",
    "x = 1.0    # 1.0          # not defined  # not defined   #\n",
    "y = 3.0    # 1.0          # 3.0          # not defined   #"
   ]
  },
  {
   "cell_type": "code",
   "execution_count": 49,
   "metadata": {},
   "outputs": [],
   "source": [
    "# Step 3 - Result after executing the third line:\n",
    "\n",
    "# Command  # Value of x   # Value of y   # Value of swap #\n",
    "x = 1.0    # 1.0          # not defined  # not defined   #\n",
    "y = 3.0    # 1.0          # 3.0          # not defined   #\n",
    "swap = x   # 1.0          # 3.0          # 1.0           #"
   ]
  },
  {
   "cell_type": "code",
   "execution_count": 50,
   "metadata": {},
   "outputs": [],
   "source": [
    "# Step 4 - Result after executing the fourth line:\n",
    "\n",
    "# Command  # Value of x   # Value of y   # Value of swap #\n",
    "x = 1.0    # 1.0          # not defined  # not defined   #\n",
    "y = 3.0    # 1.0          # 3.0          # not defined   #\n",
    "swap = x   # 1.0          # 3.0          # 1.0           #\n",
    "x = y      # 3.0          # 3.0          # 1.0           #"
   ]
  },
  {
   "cell_type": "code",
   "execution_count": 51,
   "metadata": {},
   "outputs": [],
   "source": [
    "# Step 5 - Result after executing the fifth (last) line:\n",
    "\n",
    "# Command  # Value of x   # Value of y   # Value of swap #\n",
    "x = 1.0    # 1.0          # not defined  # not defined   #\n",
    "y = 3.0    # 1.0          # 3.0          # not defined   #\n",
    "swap = x   # 1.0          # 3.0          # 1.0           #\n",
    "x = y      # 3.0          # 3.0          # 1.0           #\n",
    "y = swap   # 3.0          # 1.0          # 1.0           #"
   ]
  },
  {
   "cell_type": "markdown",
   "metadata": {},
   "source": [
    "### What is the final value of ***position*** in the program below? (Try to predict the value without running the program, then check your prediction.)\n",
    "\n",
    "initial = 'left'\n",
    "\n",
    "position = initial\n",
    "\n",
    "initial = 'right'"
   ]
  },
  {
   "cell_type": "code",
   "execution_count": 53,
   "metadata": {},
   "outputs": [],
   "source": [
    "# Try Python code here.. add new cells if needed!\n"
   ]
  },
  {
   "cell_type": "markdown",
   "metadata": {},
   "source": [
    "### Variables only change value when something is assigned to them\n",
    "\n",
    "* If we make one cell in a spreadsheet depend on another, and update the latter, the former updates automatically.\n",
    "\n",
    "* This does not happen in programming languages.\n",
    "\n",
    "Let's consider the following example:\n",
    "\n",
    "*first = 1*\n",
    "\n",
    "*second = 5 * first*\n",
    "\n",
    "*first = 2*\n",
    "\n",
    "*print('first is', first, 'and second is', second)*\n",
    "\n"
   ]
  },
  {
   "cell_type": "code",
   "execution_count": 58,
   "metadata": {},
   "outputs": [],
   "source": [
    "# Try Python code here.. add new cells if needed!\n"
   ]
  },
  {
   "cell_type": "code",
   "execution_count": 55,
   "metadata": {},
   "outputs": [],
   "source": [
    "# Try Python code here.. add new cells if needed!\n"
   ]
  },
  {
   "cell_type": "markdown",
   "metadata": {},
   "source": [
    "* The computer reads the value of *first* when doing the multiplication, creates a new value, and assigns it to *second*.\n",
    "\n",
    "* After that, *second* does not remember where it came from.\n",
    "\n",
    "Again, execution of operations are linear-sequential as we saw in earlier examples, as well."
   ]
  },
  {
   "cell_type": "code",
   "execution_count": 57,
   "metadata": {},
   "outputs": [],
   "source": [
    "# Try Python code here.. add new cells if needed!\n"
   ]
  },
  {
   "cell_type": "code",
   "execution_count": null,
   "metadata": {},
   "outputs": [],
   "source": []
  }
 ],
 "metadata": {
  "kernelspec": {
   "display_name": "Python 3",
   "language": "python",
   "name": "python3"
  },
  "language_info": {
   "codemirror_mode": {
    "name": "ipython",
    "version": 3
   },
   "file_extension": ".py",
   "mimetype": "text/x-python",
   "name": "python",
   "nbconvert_exporter": "python",
   "pygments_lexer": "ipython3",
   "version": "3.7.6"
  }
 },
 "nbformat": 4,
 "nbformat_minor": 4
}
