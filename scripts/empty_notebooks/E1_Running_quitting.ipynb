{
 "cells": [
  {
   "cell_type": "markdown",
   "metadata": {},
   "source": [
    "## Episode 1 - ['Running and quitting'](https://swcarpentry.github.io/python-novice-gapminder/01-run-quit/index.html)"
   ]
  },
  {
   "cell_type": "markdown",
   "metadata": {},
   "source": [
    "## Marking down text in aJupyter Notebook"
   ]
  },
  {
   "cell_type": "markdown",
   "metadata": {},
   "source": [
    "# Main heading\n",
    "\n",
    "## Subheading\n",
    "\n",
    "* List 1 of items with indentation\n",
    "    * Item 1\n",
    "    * Item 2\n",
    "    \n",
    "        * Point A\n",
    "        * Point B\n",
    "\n",
    "* List 2 with numbered item\n",
    "    1. Item one\n",
    "    2. Item two\n",
    "    \n",
    "1. First point\n",
    "\n",
    "2. Second point\n",
    "\n",
    "#### Emphasis\n",
    "\n",
    "Use the following code to emphasize text:\n",
    "\n",
    "Bold text: __string__ or **string**\n",
    "\n",
    "Italic text: _string_ or *string*\n",
    "\n",
    "Italic AND bold (combined): ***string***"
   ]
  },
  {
   "cell_type": "markdown",
   "metadata": {},
   "source": [
    "[Create links](http://software-carpentry.org) with `[...](...)`.\n",
    "\n",
    "Or use [named links][data_carpentry]"
   ]
  },
  {
   "cell_type": "markdown",
   "metadata": {},
   "source": [
    "## Cell is in 'Markdown' mode\n",
    "\n",
    "7 * 3\n",
    "\n",
    "2 + 1\n",
    "\n",
    "Check what happens if this cell is in 'Code' mode"
   ]
  },
  {
   "cell_type": "markdown",
   "metadata": {},
   "source": [
    "Standard Markdown (such as we’re using for these notes) won’t render equations, but the Notebook will. Create a new Markdown cell and enter the following:\n",
    "\n",
    "$\\sum_{i=1}^{N} 2^{-i} \\approx 1$\n",
    "\n",
    "*NB: The above can be familiar if you are using LaTeX-style typsetting systems.."
   ]
  },
  {
   "cell_type": "code",
   "execution_count": 3,
   "metadata": {},
   "outputs": [],
   "source": [
    "# Try some Markdown command here - and don't forget to adjust the cell's mode accordingly!"
   ]
  },
  {
   "cell_type": "code",
   "execution_count": null,
   "metadata": {},
   "outputs": [],
   "source": []
  }
 ],
 "metadata": {
  "kernelspec": {
   "display_name": "Python 3",
   "language": "python",
   "name": "python3"
  },
  "language_info": {
   "codemirror_mode": {
    "name": "ipython",
    "version": 3
   },
   "file_extension": ".py",
   "mimetype": "text/x-python",
   "name": "python",
   "nbconvert_exporter": "python",
   "pygments_lexer": "ipython3",
   "version": "3.7.6"
  }
 },
 "nbformat": 4,
 "nbformat_minor": 4
}
