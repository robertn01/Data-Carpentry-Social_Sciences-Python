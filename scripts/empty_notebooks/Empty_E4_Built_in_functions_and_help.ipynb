{
 "cells": [
  {
   "cell_type": "markdown",
   "metadata": {},
   "source": [
    "## Episode 4 - ['Built-in functions and help'](https://swcarpentry.github.io/python-novice-gapminder/04-built-in/index.html)"
   ]
  },
  {
   "cell_type": "markdown",
   "metadata": {},
   "source": [
    "## Use *Comments* to add documentation to Python code\n",
    "\n",
    "* In Python, anything written after a *hash* ('#') will be interpreted as a comment and won't be executed\n",
    "\n",
    "    * E.g. *# This is a comment*.\n",
    "    \n",
    "    \n",
    "* Brief description e.g. in a function's body ''' This is a docstring: e.g. a description what this function is doing (...) '''\n",
    "\n",
    "    * E.g. *''' Write an arbitrary few-line alphanumeric textual stream (...)'''*"
   ]
  },
  {
   "cell_type": "code",
   "execution_count": null,
   "metadata": {},
   "outputs": [],
   "source": [
    "# This line won't be executed by Python (...)\n",
    "# In this way can add brief comments/ explanations what a specific bit of code is doing\n",
    "# Or what sort of information have been stored in specific variable or data objects"
   ]
  },
  {
   "cell_type": "code",
   "execution_count": 2,
   "metadata": {},
   "outputs": [],
   "source": [
    "# Example - only for illustration\n",
    "\n",
    "def my_fun(a):\n",
    "    \n",
    "    '''This is a so-called 'docstring' that can be used for providing a brief \n",
    "    description of what\n",
    "    this function is actually doing.\n",
    "    Please red more [arbitrary web address]: https://www.python.org '''\n",
    "    \n",
    "    print('The input parameter was ','\"', a,'\"')"
   ]
  },
  {
   "cell_type": "code",
   "execution_count": 3,
   "metadata": {},
   "outputs": [],
   "source": [
    "# help(my_fun) # Will print the user-defined '''docstring''' too"
   ]
  },
  {
   "cell_type": "code",
   "execution_count": 4,
   "metadata": {},
   "outputs": [],
   "source": [
    "# my_fun('This')"
   ]
  },
  {
   "cell_type": "markdown",
   "metadata": {},
   "source": [
    "### A function may take zero or more arguments (*or parameters*)\n",
    "\n",
    "We have seen some functions (*or methods*) already — now let’s take a closer look.\n",
    "\n",
    "An *argument (or parameter)* is a value passed into a function.\n",
    "\n",
    "* **len()** takes exactly one argument.\n",
    "\n",
    "* **int()**, **str()**, and **float()** create a *new value* from an existing one.\n",
    "\n",
    "* **print()** takes zero or more.\n",
    "\n",
    "    * **print()** with no arguments prints a blank line.\n",
    "\n",
    "*NB: Must always use parentheses, even if they’re empty, so that Python knows a function is being called.*"
   ]
  },
  {
   "cell_type": "code",
   "execution_count": 5,
   "metadata": {},
   "outputs": [],
   "source": [
    "# print('before')\n",
    "# print()\n",
    "# print('after')"
   ]
  },
  {
   "cell_type": "markdown",
   "metadata": {},
   "source": [
    "### Commonly-used built-in functions: **min()**, **max()** and **round()**\n",
    "\n",
    "* Use **min()** to find the smallest *atomic element*.\n",
    "\n",
    "* Use **max()** to find the largest value (*or atomic element*) of one or more values.\n",
    "\n",
    "* Both work on character strings as well as numbers.\n",
    "\n",
    "    * “Larger” and “smaller” use (0-9, A-Z, a-z) to compare letters.\n",
    "\n",
    "    * Use the following illustrative examples:\n",
    "    \n",
    "        * *print(max(1, 2, 3))*\n",
    "        \n",
    "        * *print(min('a', 'A', '0'))*\n",
    "        "
   ]
  },
  {
   "cell_type": "code",
   "execution_count": 6,
   "metadata": {},
   "outputs": [],
   "source": [
    "# dir(__builtins__) # This gets a list of built-in functions and variables"
   ]
  },
  {
   "cell_type": "code",
   "execution_count": 7,
   "metadata": {},
   "outputs": [],
   "source": [
    "# print(max(1, 2, 3))"
   ]
  },
  {
   "cell_type": "code",
   "execution_count": 8,
   "metadata": {},
   "outputs": [],
   "source": [
    "# print(min('a', 'A', '0'))"
   ]
  },
  {
   "cell_type": "markdown",
   "metadata": {},
   "source": [
    "### Functions may only work for certain (*combinations of*) arguments\n",
    "\n",
    "* **max()** and **min()** must be given *at least one argument*.\n",
    "\n",
    "    * *“Largest of the empty set”* is a 'meaningless' query. (Or rather it's more philosophical)\n",
    "    \n",
    "    * And they must be given argument(s) for which comparison can be deemed *valid*.\n",
    "    "
   ]
  },
  {
   "cell_type": "code",
   "execution_count": 9,
   "metadata": {},
   "outputs": [],
   "source": [
    "# For example:\n",
    "\n",
    "# min(1, 'b')"
   ]
  },
  {
   "cell_type": "code",
   "execution_count": 10,
   "metadata": {},
   "outputs": [],
   "source": [
    "# max('a', 2)"
   ]
  },
  {
   "cell_type": "markdown",
   "metadata": {},
   "source": [
    "### Functions (*or methods*) may have *optional arguments* which often have pre-defined default values\n",
    "\n",
    "* For instance, consider the **round()** function will round off a *floating-point number*. <br/> <br/>\n",
    "* By default, this function rounds its operand to zero decimal places."
   ]
  },
  {
   "cell_type": "code",
   "execution_count": 11,
   "metadata": {},
   "outputs": [],
   "source": [
    "# round(3.14159)"
   ]
  },
  {
   "cell_type": "markdown",
   "metadata": {},
   "source": [
    "* Although, the user can specify the values of optional arguments to return with an output in a desired format. <br/><br/>\n",
    "* Remain with the above example, let's specify the number of decimal places we would like to see on the outout: <br/><br/>\n",
    "    * Syntax (pseudo-code): *round ( input_floating_point_number, number_of_deimal_places )*"
   ]
  },
  {
   "cell_type": "code",
   "execution_count": 12,
   "metadata": {},
   "outputs": [],
   "source": [
    "# round(3.14159, 2)"
   ]
  },
  {
   "cell_type": "code",
   "execution_count": 13,
   "metadata": {},
   "outputs": [],
   "source": [
    "# my_float_number = 3.14159\n",
    "# round(my_float_number, 4)"
   ]
  },
  {
   "cell_type": "markdown",
   "metadata": {},
   "source": [
    "### A function that requires at least one argument (*or parameter*) would be deemed that argument as mandatory\n",
    "\n",
    "And would throw an error if the 'compulsory' parameter remain unspecified. Remaining with the above example:\n",
    "\n",
    "* Executing *round()* with no input parameter would return with a *TypeError ('missing argument')*"
   ]
  },
  {
   "cell_type": "code",
   "execution_count": 14,
   "metadata": {},
   "outputs": [],
   "source": [
    "# round()"
   ]
  },
  {
   "cell_type": "markdown",
   "metadata": {},
   "source": [
    "\n",
    "### Python reports a **syntax error ('SyntaxError')** when it can’t understand the *program code (or source)* \n",
    "\n",
    "It won’t even try to run the program if it can’t be parsed.<br/>"
   ]
  },
  {
   "cell_type": "code",
   "execution_count": 15,
   "metadata": {},
   "outputs": [],
   "source": [
    "# Forgot to close the quote marks around the string.\n",
    "\n",
    "# name = 'Feng"
   ]
  },
  {
   "cell_type": "code",
   "execution_count": 16,
   "metadata": {},
   "outputs": [],
   "source": [
    "# An extra '=' in the assignment.\n",
    "# age = = 52"
   ]
  },
  {
   "cell_type": "code",
   "execution_count": 17,
   "metadata": {},
   "outputs": [],
   "source": [
    "# print(\"hello world\""
   ]
  },
  {
   "cell_type": "markdown",
   "metadata": {},
   "source": [
    "Regarding the above error message, let's dissect and try to comprehend..\n",
    "\n",
    "* The message indicates a problem on first line of the input cell (“line 1”).\n",
    "\n",
    "* In this case the *“ipython-input”* section of the file name tells us that we are working with input into *IPython*, the *Python interpreter used by the Jupyter Notebook*.\n",
    "\n",
    "* The *-25-* part of the filename indicates that the error occurred in *cell number 25* (cell numbers indicated in front of every cell on the left '[25]:') of our Notebook.\n",
    "\n",
    "* Next is the problematic line of code, indicating the problem's location with a **^** pointer."
   ]
  },
  {
   "cell_type": "markdown",
   "metadata": {},
   "source": [
    "### Python reports a **runtime error ( [multiple types](https://inventwithpython.com/blog/2012/07/09/16-common-python-runtime-errors-beginners-find/) )** when something goes wrong while a program is being executed\n",
    "\n",
    "Example below:"
   ]
  },
  {
   "cell_type": "code",
   "execution_count": 18,
   "metadata": {},
   "outputs": [],
   "source": [
    "# age = 42\n",
    "# remaining = 100 - aege # mis-spelled 'age'"
   ]
  },
  {
   "cell_type": "markdown",
   "metadata": {},
   "source": [
    "What to do? <br/>\n",
    "* Fix syntax error(s) by proof-reading the source and runtime error(s) by *tracing the execution process*."
   ]
  },
  {
   "cell_type": "markdown",
   "metadata": {},
   "source": [
    "### That is fair to claim, in Python every function (*or method*) returns with something (*despite there is nothing printed to the output*)\n",
    "\n",
    "* Every function call produces some result. <br/>\n",
    "* E.g. a valid *empty or latent* return value in Python is **None**."
   ]
  },
  {
   "cell_type": "code",
   "execution_count": 19,
   "metadata": {},
   "outputs": [],
   "source": [
    "# result = print('example') # printing out to the screen [the function call/ execution itself], per se, has no specific return value\n",
    "# print('result of print is', result)"
   ]
  },
  {
   "cell_type": "markdown",
   "metadata": {},
   "source": [
    "## Looking for help\n",
    "\n",
    "### 1. Use the built-in function **help()** to get help for a spceific function\n",
    "\n",
    "Every built-in function has online/ offline documentation."
   ]
  },
  {
   "cell_type": "code",
   "execution_count": 20,
   "metadata": {},
   "outputs": [],
   "source": [
    "# help(round)"
   ]
  },
  {
   "cell_type": "markdown",
   "metadata": {},
   "source": [
    "### 2. In Jupyter Notebook there are further explicit ways to get help about a given function\n",
    "\n",
    "* Place the cursor anywhere in the function invocation (i.e. the function's name or its parameters), hold down **shift**, and **press tab**.\n",
    "\n",
    "* Or type a specific function's name with a question mark after it (e.g. **round?** - *NB: without parentheses!* )."
   ]
  },
  {
   "cell_type": "code",
   "execution_count": 21,
   "metadata": {},
   "outputs": [],
   "source": [
    "# round?"
   ]
  },
  {
   "cell_type": "markdown",
   "metadata": {},
   "source": [
    "## Excercises"
   ]
  },
  {
   "cell_type": "markdown",
   "metadata": {},
   "source": [
    "### 4.1 'What Happens and When'?\n",
    "\n",
    "* Explain in simple terms the order of operations in the following program: when does the addition happen, when does the subtraction happen, when is each function called, etc.\n",
    "\n",
    "* What is the final value of radiance?\n",
    "\n",
    "Python script:\n",
    "\n",
    "   *radiance = 1.0*\n",
    "\n",
    "   *radiance = max(2.1, 2.0 + min(radiance, 1.1 * radiance - 0.5))*"
   ]
  },
  {
   "cell_type": "code",
   "execution_count": 22,
   "metadata": {},
   "outputs": [],
   "source": [
    "# 4.1 - Answer"
   ]
  },
  {
   "cell_type": "markdown",
   "metadata": {},
   "source": [
    "### 4.2 'Spot the Difference'\n",
    "\n",
    "* Predict what each of the print statements in the program below will print.\n",
    "\n",
    "* Does **max(len(rich), poor)** run or produce an error message? If it runs, does its result make any sense?\n",
    "\n",
    "Python script:\n",
    "\n",
    "*easy_string = \"abc\"*\n",
    "\n",
    "*print(max(easy_string))*\n",
    "\n",
    "*rich = \"gold\"*\n",
    "\n",
    "*poor = \"tin\"*\n",
    "\n",
    "*print(max(rich, poor))*\n",
    "\n",
    "*print(max(len(rich), len(poor)))*"
   ]
  },
  {
   "cell_type": "code",
   "execution_count": 23,
   "metadata": {},
   "outputs": [],
   "source": [
    "# 4.2 - Answer"
   ]
  },
  {
   "cell_type": "markdown",
   "metadata": {},
   "source": [
    "### 4.3 'Why Not?'\n",
    "\n",
    "Why don’t **max()** and **min()** return *None* when they are given no arguments?\n",
    "\n",
    "*Hint: try the code!*"
   ]
  },
  {
   "cell_type": "code",
   "execution_count": 24,
   "metadata": {},
   "outputs": [],
   "source": [
    "# 4.3 - Answer"
   ]
  },
  {
   "cell_type": "code",
   "execution_count": null,
   "metadata": {},
   "outputs": [],
   "source": []
  }
 ],
 "metadata": {
  "kernelspec": {
   "display_name": "Python 3",
   "language": "python",
   "name": "python3"
  },
  "language_info": {
   "codemirror_mode": {
    "name": "ipython",
    "version": 3
   },
   "file_extension": ".py",
   "mimetype": "text/x-python",
   "name": "python",
   "nbconvert_exporter": "python",
   "pygments_lexer": "ipython3",
   "version": "3.7.6"
  }
 },
 "nbformat": 4,
 "nbformat_minor": 4
}
